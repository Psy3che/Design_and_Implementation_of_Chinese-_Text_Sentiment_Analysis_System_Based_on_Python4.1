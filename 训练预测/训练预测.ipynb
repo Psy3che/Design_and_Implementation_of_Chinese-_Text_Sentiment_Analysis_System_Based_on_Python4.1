{
 "cells": [
  {
   "cell_type": "markdown",
   "metadata": {},
   "source": [
    "# 一、导入数据"
   ]
  },
  {
   "cell_type": "code",
   "metadata": {
    "tags": [],
    "ExecuteTime": {
     "end_time": "2025-02-23T15:45:43.627724Z",
     "start_time": "2025-02-23T15:45:41.876470Z"
    }
   },
   "source": [
    "# -- coding: utf-8 --\n",
    "from gensim.models.word2vec  import Word2Vec\n",
    "from sklearn.model_selection import cross_val_score\n",
    "from sklearn.svm             import SVC\n",
    "import pandas       as pd\n",
    "import numpy        as np\n",
    "import jieba,joblib\n",
    "import warnings\n",
    "warnings.filterwarnings(\"ignore\")             #忽略警告信息\n",
    "\n",
    "# 加载语料库文件，并导入数据\n",
    "neg = pd.read_excel('data/neg.xls', header=None)#, index=None\n",
    "pos = pd.read_excel('data/pos.xls', header=None)#\n",
    "\n",
    "pos.head()"
   ],
   "outputs": [
    {
     "name": "stderr",
     "output_type": "stream",
     "text": [
      "/Users/grace/Library/Python/3.9/lib/python/site-packages/urllib3/__init__.py:35: NotOpenSSLWarning: urllib3 v2 only supports OpenSSL 1.1.1+, currently the 'ssl' module is compiled with 'LibreSSL 2.8.3'. See: https://github.com/urllib3/urllib3/issues/3020\n",
      "  warnings.warn(\n"
     ]
    },
    {
     "data": {
      "text/plain": [
       "                                                   0\n",
       "0  做父母一定要有刘墉这样的心态，不断地学习，不断地进步，不断地给自己补充新鲜血液，让自己保持一...\n",
       "1  作者真有英国人严谨的风格，提出观点、进行论述论证，尽管本人对物理学了解不深，但是仍然能感受到...\n",
       "2  作者长篇大论借用详细报告数据处理工作和计算结果支持其新观点。为什么荷兰曾经县有欧洲最高的生产...\n",
       "3  作者在战几时之前用了＂拥抱＂令人叫绝．日本如果没有战败，就有会有美军的占领，没胡官僚主义的延...\n",
       "4  作者在少年时即喜阅读，能看出他精读了无数经典，因而他有一个庞大的内心世界。他的作品最难能可贵..."
      ],
      "text/html": [
       "<div>\n",
       "<style scoped>\n",
       "    .dataframe tbody tr th:only-of-type {\n",
       "        vertical-align: middle;\n",
       "    }\n",
       "\n",
       "    .dataframe tbody tr th {\n",
       "        vertical-align: top;\n",
       "    }\n",
       "\n",
       "    .dataframe thead th {\n",
       "        text-align: right;\n",
       "    }\n",
       "</style>\n",
       "<table border=\"1\" class=\"dataframe\">\n",
       "  <thead>\n",
       "    <tr style=\"text-align: right;\">\n",
       "      <th></th>\n",
       "      <th>0</th>\n",
       "    </tr>\n",
       "  </thead>\n",
       "  <tbody>\n",
       "    <tr>\n",
       "      <th>0</th>\n",
       "      <td>做父母一定要有刘墉这样的心态，不断地学习，不断地进步，不断地给自己补充新鲜血液，让自己保持一...</td>\n",
       "    </tr>\n",
       "    <tr>\n",
       "      <th>1</th>\n",
       "      <td>作者真有英国人严谨的风格，提出观点、进行论述论证，尽管本人对物理学了解不深，但是仍然能感受到...</td>\n",
       "    </tr>\n",
       "    <tr>\n",
       "      <th>2</th>\n",
       "      <td>作者长篇大论借用详细报告数据处理工作和计算结果支持其新观点。为什么荷兰曾经县有欧洲最高的生产...</td>\n",
       "    </tr>\n",
       "    <tr>\n",
       "      <th>3</th>\n",
       "      <td>作者在战几时之前用了＂拥抱＂令人叫绝．日本如果没有战败，就有会有美军的占领，没胡官僚主义的延...</td>\n",
       "    </tr>\n",
       "    <tr>\n",
       "      <th>4</th>\n",
       "      <td>作者在少年时即喜阅读，能看出他精读了无数经典，因而他有一个庞大的内心世界。他的作品最难能可贵...</td>\n",
       "    </tr>\n",
       "  </tbody>\n",
       "</table>\n",
       "</div>"
      ]
     },
     "execution_count": 3,
     "metadata": {},
     "output_type": "execute_result"
    }
   ],
   "execution_count": 3
  },
  {
   "cell_type": "markdown",
   "metadata": {},
   "source": [
    "## 分词处理"
   ]
  },
  {
   "metadata": {},
   "cell_type": "markdown",
   "source": ""
  },
  {
   "cell_type": "code",
   "metadata": {
    "ExecuteTime": {
     "end_time": "2025-02-23T15:45:47.270343Z",
     "start_time": "2025-02-23T15:45:43.634545Z"
    }
   },
   "source": [
    "word_cut = lambda x: jieba.lcut(str(x))\n",
    "pos['words'] = pos[0].apply(word_cut)\n",
    "neg['words'] = neg[0].apply(word_cut)"
   ],
   "outputs": [
    {
     "name": "stderr",
     "output_type": "stream",
     "text": [
      "Building prefix dict from the default dictionary ...\n",
      "Loading model from cache /var/folders/_w/hfqvgqcd4rj79tq5flh6k91h0000gn/T/jieba.cache\n",
      "Loading model cost 0.257 seconds.\n",
      "Prefix dict has been built successfully.\n"
     ]
    }
   ],
   "execution_count": 4
  },
  {
   "cell_type": "code",
   "metadata": {
    "ExecuteTime": {
     "end_time": "2025-02-23T15:45:47.298378Z",
     "start_time": "2025-02-23T15:45:47.295098Z"
    }
   },
   "source": [
    "# 使用 1 表示积极情绪，0 表示消极情绪，并完成数组拼接\n",
    "x = np.concatenate((pos['words'], neg['words']))\n",
    "y = np.concatenate((np.ones(len(pos)), np.zeros(len(neg))))"
   ],
   "outputs": [],
   "execution_count": 5
  },
  {
   "cell_type": "markdown",
   "metadata": {},
   "source": [
    "# 二、Word2vec处理"
   ]
  },
  {
   "metadata": {
    "scrolled": true,
    "tags": [],
    "ExecuteTime": {
     "end_time": "2025-02-23T15:45:59.539195Z",
     "start_time": "2025-02-23T15:45:47.317601Z"
    }
   },
   "cell_type": "code",
   "source": [
    "# 训练 Word2Vec 浅层神经网络模型\n",
    "w2v = Word2Vec(vector_size=300,  #是指特征向量的维度，默认为100。\n",
    "               min_count=10)     #可以对字典做截断. 词频少于min_count次数的单词会被丢弃掉, 默认值为5。\n",
    "\n",
    "w2v.build_vocab(x)\n",
    "w2v.train(x,\n",
    "          total_examples=w2v.corpus_count,\n",
    "          epochs=20)\n",
    "\n",
    "# 对每个句子的词向量进行均值计算\n",
    "def average_vec(text):\n",
    "    vec = np.zeros(300).reshape((1, 300))\n",
    "    for word in text:\n",
    "        try:\n",
    "            vec += w2v.wv[word].reshape((1, 300))\n",
    "        except KeyError:\n",
    "            continue\n",
    "    return vec\n",
    "\n",
    "# 将词向量保存为 Ndarray\n",
    "x_vec = np.concatenate([average_vec(z) for z in x])\n",
    "\n",
    "# 保存 Word2Vec 模型及词向量\n",
    "w2v.save('w2v_model.pkl')"
   ],
   "outputs": [],
   "execution_count": 6
  },
  {
   "metadata": {},
   "cell_type": "code",
   "outputs": [],
   "execution_count": null,
   "source": "# 三、训练支持向量机情绪分类模型"
  },
  {
   "metadata": {
    "ExecuteTime": {
     "end_time": "2025-02-23T15:46:12.847359Z",
     "start_time": "2025-02-23T15:45:59.568475Z"
    }
   },
   "cell_type": "code",
   "source": [
    "model = SVC(kernel='rbf', verbose=True) # 构建支持向量机分类模型\n",
    "model.fit(x_vec, y) # 训练模型\n",
    "\n",
    "# 保存训练好的模型\n",
    "joblib.dump(model, 'svm_model.pkl')"
   ],
   "outputs": [
    {
     "name": "stdout",
     "output_type": "stream",
     "text": [
      "[LibSVM]......*.*\n",
      "optimization finished, #iter = 7970\n",
      "obj = -6461.225329, rho = -0.146742\n",
      "nSV = 8349, nBSV = 7015\n",
      "Total nSV = 8349\n"
     ]
    },
    {
     "data": {
      "text/plain": [
       "['svm_model.pkl']"
      ]
     },
     "execution_count": 7,
     "metadata": {},
     "output_type": "execute_result"
    }
   ],
   "execution_count": 7
  },
  {
   "metadata": {
    "ExecuteTime": {
     "end_time": "2025-02-23T15:47:08.015626Z",
     "start_time": "2025-02-23T15:46:12.868507Z"
    }
   },
   "cell_type": "code",
   "source": [
    "# 输出模型交叉验证准确率\n",
    "print(cross_val_score(model, x_vec, y))"
   ],
   "outputs": [
    {
     "name": "stdout",
     "output_type": "stream",
     "text": [
      "[LibSVM].....*..*\n",
      "optimization finished, #iter = 7154\n",
      "obj = -5629.819171, rho = -0.275268\n",
      "nSV = 7215, nBSV = 6073\n",
      "Total nSV = 7215\n",
      "[LibSVM].....*.*\n",
      "optimization finished, #iter = 6588\n",
      "obj = -5560.436864, rho = -0.127919\n",
      "nSV = 6990, nBSV = 6022\n",
      "Total nSV = 6990\n",
      "[LibSVM].....*.*\n",
      "optimization finished, #iter = 6351\n",
      "obj = -4797.548481, rho = 0.207110\n",
      "nSV = 6404, nBSV = 5252\n",
      "Total nSV = 6404\n",
      "[LibSVM].....*.*.*\n",
      "optimization finished, #iter = 7108\n",
      "obj = -5185.404960, rho = -0.119214\n",
      "nSV = 6820, nBSV = 5675\n",
      "Total nSV = 6820\n",
      "[LibSVM].....*.*\n",
      "optimization finished, #iter = 6316\n",
      "obj = -4900.886316, rho = -0.341092\n",
      "nSV = 6425, nBSV = 5331\n",
      "Total nSV = 6425\n",
      "[0.91307437 0.89483657 0.80549633 0.84150675 0.79341388]\n"
     ]
    }
   ],
   "execution_count": 8
  },
  {
   "metadata": {},
   "cell_type": "markdown",
   "source": "# 四、情感预测"
  },
  {
   "metadata": {
    "tags": [],
    "ExecuteTime": {
     "end_time": "2025-02-23T15:47:08.212854Z",
     "start_time": "2025-02-23T15:47:08.165878Z"
    }
   },
   "cell_type": "code",
   "source": [
    "# 读取 Word2Vec 并对新输入进行词向量计算\n",
    "def average_vec(words):\n",
    "    # 读取 Word2Vec 模型\n",
    "    w2v = Word2Vec.load('w2v_model.pkl')\n",
    "    vec = np.zeros(300).reshape((1, 300))\n",
    "    for word in words:\n",
    "        try:\n",
    "            vec += w2v.wv[word].reshape((1, 300))\n",
    "        except KeyError:\n",
    "            continue\n",
    "    return vec\n",
    "\n",
    "# 对电影评论进行情感判断\n",
    "def svm_predict(string):\n",
    "\n",
    "    # 对评论分词\n",
    "    words = jieba.lcut(str(string))\n",
    "    words_vec = average_vec(words)\n",
    "    # 读取支持向量机模型\n",
    "    model = joblib.load('svm_model.pkl')\n",
    "\n",
    "    result = model.predict(words_vec)\n",
    "\n",
    "    # 实时返回积极或消极结果\n",
    "    if int(result[0]) == 1:\n",
    "        print(string, '[积极]')\n",
    "        return result[0]\n",
    "    else:\n",
    "        print(string, '[消极]')\n",
    "        return result[0]\n",
    "\n",
    "\n",
    "\n",
    "string = '还不错，符合需求'\n",
    "pred_result = svm_predict(string)\n",
    "print(pred_result)"
   ],
   "outputs": [
    {
     "name": "stdout",
     "output_type": "stream",
     "text": [
      "还不错，符合需求 [积极]\n",
      "1.0\n"
     ]
    }
   ],
   "execution_count": 9
  },
  {
   "metadata": {},
   "cell_type": "markdown",
   "source": ""
  }
 ],
 "metadata": {
  "kernelspec": {
   "display_name": "Python 3 (ipykernel)",
   "language": "python",
   "name": "python3"
  },
  "language_info": {
   "codemirror_mode": {
    "name": "ipython",
    "version": 3
   },
   "file_extension": ".py",
   "mimetype": "text/x-python",
   "name": "python",
   "nbconvert_exporter": "python",
   "pygments_lexer": "ipython3",
   "version": "3.8.10"
  }
 },
 "nbformat": 4,
 "nbformat_minor": 4
}
