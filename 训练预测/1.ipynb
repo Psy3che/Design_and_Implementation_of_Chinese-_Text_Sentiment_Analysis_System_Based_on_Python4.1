{
 "cells": [
  {
   "cell_type": "code",
   "id": "initial_id",
   "metadata": {
    "collapsed": true,
    "ExecuteTime": {
     "end_time": "2025-04-23T08:31:01.194418Z",
     "start_time": "2025-04-23T08:31:01.129562Z"
    }
   },
   "source": [
    "import lda\n",
    "print(lda.__version__)"
   ],
   "outputs": [
    {
     "ename": "ModuleNotFoundError",
     "evalue": "No module named 'lda'",
     "output_type": "error",
     "traceback": [
      "\u001B[0;31m---------------------------------------------------------------------------\u001B[0m",
      "\u001B[0;31mModuleNotFoundError\u001B[0m                       Traceback (most recent call last)",
      "Cell \u001B[0;32mIn[2], line 1\u001B[0m\n\u001B[0;32m----> 1\u001B[0m \u001B[38;5;28;01mimport\u001B[39;00m\u001B[38;5;250m \u001B[39m\u001B[38;5;21;01mlda\u001B[39;00m\n\u001B[1;32m      2\u001B[0m \u001B[38;5;28mprint\u001B[39m(lda\u001B[38;5;241m.\u001B[39m__version__)\n",
      "\u001B[0;31mModuleNotFoundError\u001B[0m: No module named 'lda'"
     ]
    }
   ],
   "execution_count": 2
  },
  {
   "metadata": {
    "ExecuteTime": {
     "end_time": "2025-04-23T08:28:08.717753Z",
     "start_time": "2025-04-23T08:28:08.609407Z"
    }
   },
   "cell_type": "code",
   "source": [
    "import lda\n",
    "import lda.datasets\n",
    "X = lda.datasets.loadreuters()\n",
    "vocab = lda.datasets.loadreutersvocab()\n",
    "titles = lda.datasets.loadreuterstitles()\n",
    "model= lda.LDA(ntopics=25,niter=1600, randomstate=1)\n",
    "model.fit(X)"
   ],
   "id": "6bc61927b729fa99",
   "outputs": [
    {
     "ename": "ModuleNotFoundError",
     "evalue": "No module named 'lda'",
     "output_type": "error",
     "traceback": [
      "\u001B[0;31m---------------------------------------------------------------------------\u001B[0m",
      "\u001B[0;31mModuleNotFoundError\u001B[0m                       Traceback (most recent call last)",
      "Cell \u001B[0;32mIn[1], line 1\u001B[0m\n\u001B[0;32m----> 1\u001B[0m \u001B[38;5;28;01mimport\u001B[39;00m\u001B[38;5;250m \u001B[39m\u001B[38;5;21;01mlda\u001B[39;00m\n\u001B[1;32m      2\u001B[0m \u001B[38;5;28;01mimport\u001B[39;00m\u001B[38;5;250m \u001B[39m\u001B[38;5;21;01mlda\u001B[39;00m\u001B[38;5;21;01m.\u001B[39;00m\u001B[38;5;21;01mdatasets\u001B[39;00m\n\u001B[1;32m      3\u001B[0m X \u001B[38;5;241m=\u001B[39m lda\u001B[38;5;241m.\u001B[39mdatasets\u001B[38;5;241m.\u001B[39mloadreuters()\n",
      "\u001B[0;31mModuleNotFoundError\u001B[0m: No module named 'lda'"
     ]
    }
   ],
   "execution_count": 1
  }
 ],
 "metadata": {
  "kernelspec": {
   "display_name": "Python 3",
   "language": "python",
   "name": "python3"
  },
  "language_info": {
   "codemirror_mode": {
    "name": "ipython",
    "version": 2
   },
   "file_extension": ".py",
   "mimetype": "text/x-python",
   "name": "python",
   "nbconvert_exporter": "python",
   "pygments_lexer": "ipython2",
   "version": "2.7.6"
  }
 },
 "nbformat": 4,
 "nbformat_minor": 5
}
